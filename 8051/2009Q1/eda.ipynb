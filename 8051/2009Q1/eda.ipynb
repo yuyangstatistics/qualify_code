{
 "cells": [
  {
   "cell_type": "markdown",
   "metadata": {},
   "source": [
    "# Exploratory Data Analysis"
   ]
  },
  {
   "cell_type": "code",
   "execution_count": 2,
   "metadata": {},
   "outputs": [
    {
     "name": "stdout",
     "output_type": "stream",
     "text": [
      "The autoreload extension is already loaded. To reload it, use:\n",
      "  %reload_ext autoreload\n"
     ]
    }
   ],
   "source": [
    "import pandas as pd\n",
    "import numpy as np\n",
    "import matplotlib.pyplot as plt\n",
    "import seaborn as sns\n",
    "import scipy\n",
    "import scipy.stats as stats\n",
    "\n",
    "import warnings\n",
    "warnings.filterwarnings('ignore')\n",
    "pd.options.display.max_columns = None\n",
    "\n",
    "# autoload self-written modules\n",
    "%load_ext autoreload\n",
    "%autoreload 2\n",
    "import utils as ut"
   ]
  },
  {
   "cell_type": "code",
   "execution_count": 11,
   "metadata": {},
   "outputs": [],
   "source": [
    "dataset = pd.read_csv('data/dataset.csv')\n",
    "dataset.rename(columns = {'Unnamed: 0': 'index'}, inplace=True)\n",
    "dataset.set_index('index', inplace=True)\n",
    "\n",
    "train = pd.read_csv('data/train.csv')\n",
    "train.rename(columns = {'Unnamed: 0': 'index'}, inplace=True)\n",
    "train.set_index('index', inplace=True)\n",
    "test = pd.read_csv('data/test.csv')\n",
    "test.rename(columns = {'Unnamed: 0': 'index'}, inplace=True)\n",
    "test.set_index('index', inplace=True)"
   ]
  },
  {
   "cell_type": "code",
   "execution_count": 12,
   "metadata": {
    "collapsed": true
   },
   "outputs": [
    {
     "data": {
      "text/html": [
       "<div>\n",
       "<style scoped>\n",
       "    .dataframe tbody tr th:only-of-type {\n",
       "        vertical-align: middle;\n",
       "    }\n",
       "\n",
       "    .dataframe tbody tr th {\n",
       "        vertical-align: top;\n",
       "    }\n",
       "\n",
       "    .dataframe thead th {\n",
       "        text-align: right;\n",
       "    }\n",
       "</style>\n",
       "<table border=\"1\" class=\"dataframe\">\n",
       "  <thead>\n",
       "    <tr style=\"text-align: right;\">\n",
       "      <th></th>\n",
       "      <th>y</th>\n",
       "      <th>rad</th>\n",
       "      <th>tex</th>\n",
       "      <th>per</th>\n",
       "      <th>area</th>\n",
       "      <th>smo</th>\n",
       "      <th>com</th>\n",
       "      <th>conc</th>\n",
       "      <th>concp</th>\n",
       "      <th>sym</th>\n",
       "      <th>fra</th>\n",
       "    </tr>\n",
       "    <tr>\n",
       "      <th>index</th>\n",
       "      <th></th>\n",
       "      <th></th>\n",
       "      <th></th>\n",
       "      <th></th>\n",
       "      <th></th>\n",
       "      <th></th>\n",
       "      <th></th>\n",
       "      <th></th>\n",
       "      <th></th>\n",
       "      <th></th>\n",
       "      <th></th>\n",
       "    </tr>\n",
       "  </thead>\n",
       "  <tbody>\n",
       "    <tr>\n",
       "      <th>1</th>\n",
       "      <td>1</td>\n",
       "      <td>1.096100</td>\n",
       "      <td>-2.071512</td>\n",
       "      <td>1.268817</td>\n",
       "      <td>0.983510</td>\n",
       "      <td>1.567087</td>\n",
       "      <td>3.280628</td>\n",
       "      <td>2.650542</td>\n",
       "      <td>2.530249</td>\n",
       "      <td>2.215566</td>\n",
       "      <td>2.253764</td>\n",
       "    </tr>\n",
       "    <tr>\n",
       "      <th>2</th>\n",
       "      <td>1</td>\n",
       "      <td>1.578499</td>\n",
       "      <td>0.455786</td>\n",
       "      <td>1.565126</td>\n",
       "      <td>1.557513</td>\n",
       "      <td>0.941382</td>\n",
       "      <td>1.052000</td>\n",
       "      <td>1.362280</td>\n",
       "      <td>2.035440</td>\n",
       "      <td>0.938859</td>\n",
       "      <td>-0.397658</td>\n",
       "    </tr>\n",
       "    <tr>\n",
       "      <th>3</th>\n",
       "      <td>1</td>\n",
       "      <td>1.748758</td>\n",
       "      <td>-1.150804</td>\n",
       "      <td>1.775011</td>\n",
       "      <td>1.824624</td>\n",
       "      <td>0.280125</td>\n",
       "      <td>0.538866</td>\n",
       "      <td>1.369806</td>\n",
       "      <td>1.427237</td>\n",
       "      <td>-0.009552</td>\n",
       "      <td>-0.561956</td>\n",
       "    </tr>\n",
       "    <tr>\n",
       "      <th>4</th>\n",
       "      <td>1</td>\n",
       "      <td>1.169878</td>\n",
       "      <td>0.160508</td>\n",
       "      <td>1.137124</td>\n",
       "      <td>1.094332</td>\n",
       "      <td>-0.123028</td>\n",
       "      <td>0.088218</td>\n",
       "      <td>0.299809</td>\n",
       "      <td>0.646366</td>\n",
       "      <td>-0.064268</td>\n",
       "      <td>-0.761662</td>\n",
       "    </tr>\n",
       "    <tr>\n",
       "      <th>5</th>\n",
       "      <td>1</td>\n",
       "      <td>-0.319885</td>\n",
       "      <td>0.588312</td>\n",
       "      <td>-0.183919</td>\n",
       "      <td>-0.383870</td>\n",
       "      <td>2.199903</td>\n",
       "      <td>1.682529</td>\n",
       "      <td>1.218025</td>\n",
       "      <td>1.149680</td>\n",
       "      <td>1.963872</td>\n",
       "      <td>1.571079</td>\n",
       "    </tr>\n",
       "    <tr>\n",
       "      <th>...</th>\n",
       "      <td>...</td>\n",
       "      <td>...</td>\n",
       "      <td>...</td>\n",
       "      <td>...</td>\n",
       "      <td>...</td>\n",
       "      <td>...</td>\n",
       "      <td>...</td>\n",
       "      <td>...</td>\n",
       "      <td>...</td>\n",
       "      <td>...</td>\n",
       "      <td>...</td>\n",
       "    </tr>\n",
       "    <tr>\n",
       "      <th>565</th>\n",
       "      <td>9</td>\n",
       "      <td>-1.360450</td>\n",
       "      <td>0.616212</td>\n",
       "      <td>-1.356396</td>\n",
       "      <td>-1.110751</td>\n",
       "      <td>-0.281587</td>\n",
       "      <td>-0.914381</td>\n",
       "      <td>-0.612637</td>\n",
       "      <td>-0.930322</td>\n",
       "      <td>-0.436337</td>\n",
       "      <td>0.419580</td>\n",
       "    </tr>\n",
       "    <tr>\n",
       "      <th>566</th>\n",
       "      <td>9</td>\n",
       "      <td>-1.088887</td>\n",
       "      <td>1.934499</td>\n",
       "      <td>-1.082310</td>\n",
       "      <td>-0.947643</td>\n",
       "      <td>-0.430903</td>\n",
       "      <td>-0.525649</td>\n",
       "      <td>-0.361382</td>\n",
       "      <td>-0.555092</td>\n",
       "      <td>-0.797463</td>\n",
       "      <td>-0.216364</td>\n",
       "    </tr>\n",
       "    <tr>\n",
       "      <th>567</th>\n",
       "      <td>9</td>\n",
       "      <td>-1.334911</td>\n",
       "      <td>1.997275</td>\n",
       "      <td>-1.346107</td>\n",
       "      <td>-1.090008</td>\n",
       "      <td>-1.075807</td>\n",
       "      <td>-1.034428</td>\n",
       "      <td>-1.113893</td>\n",
       "      <td>-1.260710</td>\n",
       "      <td>-0.253950</td>\n",
       "      <td>-0.312677</td>\n",
       "    </tr>\n",
       "    <tr>\n",
       "      <th>568</th>\n",
       "      <td>9</td>\n",
       "      <td>-0.742695</td>\n",
       "      <td>1.078892</td>\n",
       "      <td>-0.718097</td>\n",
       "      <td>-0.714348</td>\n",
       "      <td>-0.266656</td>\n",
       "      <td>-0.042433</td>\n",
       "      <td>0.280993</td>\n",
       "      <td>-0.202798</td>\n",
       "      <td>-1.545248</td>\n",
       "      <td>0.411082</td>\n",
       "    </tr>\n",
       "    <tr>\n",
       "      <th>569</th>\n",
       "      <td>9</td>\n",
       "      <td>-0.830662</td>\n",
       "      <td>2.343703</td>\n",
       "      <td>-0.876540</td>\n",
       "      <td>-0.764076</td>\n",
       "      <td>-1.555040</td>\n",
       "      <td>-1.301977</td>\n",
       "      <td>-1.113893</td>\n",
       "      <td>-1.260710</td>\n",
       "      <td>-2.741705</td>\n",
       "      <td>-1.101588</td>\n",
       "    </tr>\n",
       "  </tbody>\n",
       "</table>\n",
       "<p>569 rows × 11 columns</p>\n",
       "</div>"
      ],
      "text/plain": [
       "       y       rad       tex       per      area       smo       com  \\\n",
       "index                                                                  \n",
       "1      1  1.096100 -2.071512  1.268817  0.983510  1.567087  3.280628   \n",
       "2      1  1.578499  0.455786  1.565126  1.557513  0.941382  1.052000   \n",
       "3      1  1.748758 -1.150804  1.775011  1.824624  0.280125  0.538866   \n",
       "4      1  1.169878  0.160508  1.137124  1.094332 -0.123028  0.088218   \n",
       "5      1 -0.319885  0.588312 -0.183919 -0.383870  2.199903  1.682529   \n",
       "...   ..       ...       ...       ...       ...       ...       ...   \n",
       "565    9 -1.360450  0.616212 -1.356396 -1.110751 -0.281587 -0.914381   \n",
       "566    9 -1.088887  1.934499 -1.082310 -0.947643 -0.430903 -0.525649   \n",
       "567    9 -1.334911  1.997275 -1.346107 -1.090008 -1.075807 -1.034428   \n",
       "568    9 -0.742695  1.078892 -0.718097 -0.714348 -0.266656 -0.042433   \n",
       "569    9 -0.830662  2.343703 -0.876540 -0.764076 -1.555040 -1.301977   \n",
       "\n",
       "           conc     concp       sym       fra  \n",
       "index                                          \n",
       "1      2.650542  2.530249  2.215566  2.253764  \n",
       "2      1.362280  2.035440  0.938859 -0.397658  \n",
       "3      1.369806  1.427237 -0.009552 -0.561956  \n",
       "4      0.299809  0.646366 -0.064268 -0.761662  \n",
       "5      1.218025  1.149680  1.963872  1.571079  \n",
       "...         ...       ...       ...       ...  \n",
       "565   -0.612637 -0.930322 -0.436337  0.419580  \n",
       "566   -0.361382 -0.555092 -0.797463 -0.216364  \n",
       "567   -1.113893 -1.260710 -0.253950 -0.312677  \n",
       "568    0.280993 -0.202798 -1.545248  0.411082  \n",
       "569   -1.113893 -1.260710 -2.741705 -1.101588  \n",
       "\n",
       "[569 rows x 11 columns]"
      ]
     },
     "execution_count": 12,
     "metadata": {},
     "output_type": "execute_result"
    }
   ],
   "source": [
    "dataset"
   ]
  },
  {
   "cell_type": "code",
   "execution_count": 13,
   "metadata": {
    "collapsed": true
   },
   "outputs": [
    {
     "data": {
      "text/html": [
       "<div>\n",
       "<style scoped>\n",
       "    .dataframe tbody tr th:only-of-type {\n",
       "        vertical-align: middle;\n",
       "    }\n",
       "\n",
       "    .dataframe tbody tr th {\n",
       "        vertical-align: top;\n",
       "    }\n",
       "\n",
       "    .dataframe thead th {\n",
       "        text-align: right;\n",
       "    }\n",
       "</style>\n",
       "<table border=\"1\" class=\"dataframe\">\n",
       "  <thead>\n",
       "    <tr style=\"text-align: right;\">\n",
       "      <th></th>\n",
       "      <th>y</th>\n",
       "      <th>rad</th>\n",
       "      <th>tex</th>\n",
       "      <th>per</th>\n",
       "      <th>area</th>\n",
       "      <th>smo</th>\n",
       "      <th>com</th>\n",
       "      <th>conc</th>\n",
       "      <th>concp</th>\n",
       "      <th>sym</th>\n",
       "      <th>fra</th>\n",
       "    </tr>\n",
       "    <tr>\n",
       "      <th>index</th>\n",
       "      <th></th>\n",
       "      <th></th>\n",
       "      <th></th>\n",
       "      <th></th>\n",
       "      <th></th>\n",
       "      <th></th>\n",
       "      <th></th>\n",
       "      <th></th>\n",
       "      <th></th>\n",
       "      <th></th>\n",
       "      <th></th>\n",
       "    </tr>\n",
       "  </thead>\n",
       "  <tbody>\n",
       "    <tr>\n",
       "      <th>1</th>\n",
       "      <td>1</td>\n",
       "      <td>1.096100</td>\n",
       "      <td>-2.071512</td>\n",
       "      <td>1.268817</td>\n",
       "      <td>0.983510</td>\n",
       "      <td>1.567087</td>\n",
       "      <td>3.280628</td>\n",
       "      <td>2.650542</td>\n",
       "      <td>2.530249</td>\n",
       "      <td>2.215566</td>\n",
       "      <td>2.253764</td>\n",
       "    </tr>\n",
       "    <tr>\n",
       "      <th>2</th>\n",
       "      <td>1</td>\n",
       "      <td>1.578499</td>\n",
       "      <td>0.455786</td>\n",
       "      <td>1.565126</td>\n",
       "      <td>1.557513</td>\n",
       "      <td>0.941382</td>\n",
       "      <td>1.052000</td>\n",
       "      <td>1.362280</td>\n",
       "      <td>2.035440</td>\n",
       "      <td>0.938859</td>\n",
       "      <td>-0.397658</td>\n",
       "    </tr>\n",
       "    <tr>\n",
       "      <th>3</th>\n",
       "      <td>1</td>\n",
       "      <td>1.748758</td>\n",
       "      <td>-1.150804</td>\n",
       "      <td>1.775011</td>\n",
       "      <td>1.824624</td>\n",
       "      <td>0.280125</td>\n",
       "      <td>0.538866</td>\n",
       "      <td>1.369806</td>\n",
       "      <td>1.427237</td>\n",
       "      <td>-0.009552</td>\n",
       "      <td>-0.561956</td>\n",
       "    </tr>\n",
       "    <tr>\n",
       "      <th>4</th>\n",
       "      <td>1</td>\n",
       "      <td>1.169878</td>\n",
       "      <td>0.160508</td>\n",
       "      <td>1.137124</td>\n",
       "      <td>1.094332</td>\n",
       "      <td>-0.123028</td>\n",
       "      <td>0.088218</td>\n",
       "      <td>0.299809</td>\n",
       "      <td>0.646366</td>\n",
       "      <td>-0.064268</td>\n",
       "      <td>-0.761662</td>\n",
       "    </tr>\n",
       "    <tr>\n",
       "      <th>5</th>\n",
       "      <td>1</td>\n",
       "      <td>-0.319885</td>\n",
       "      <td>0.588312</td>\n",
       "      <td>-0.183919</td>\n",
       "      <td>-0.383870</td>\n",
       "      <td>2.199903</td>\n",
       "      <td>1.682529</td>\n",
       "      <td>1.218025</td>\n",
       "      <td>1.149680</td>\n",
       "      <td>1.963872</td>\n",
       "      <td>1.571079</td>\n",
       "    </tr>\n",
       "    <tr>\n",
       "      <th>...</th>\n",
       "      <td>...</td>\n",
       "      <td>...</td>\n",
       "      <td>...</td>\n",
       "      <td>...</td>\n",
       "      <td>...</td>\n",
       "      <td>...</td>\n",
       "      <td>...</td>\n",
       "      <td>...</td>\n",
       "      <td>...</td>\n",
       "      <td>...</td>\n",
       "      <td>...</td>\n",
       "    </tr>\n",
       "    <tr>\n",
       "      <th>281</th>\n",
       "      <td>0</td>\n",
       "      <td>-0.021933</td>\n",
       "      <td>1.827549</td>\n",
       "      <td>-0.024241</td>\n",
       "      <td>-0.154836</td>\n",
       "      <td>0.208311</td>\n",
       "      <td>0.156383</td>\n",
       "      <td>-0.554182</td>\n",
       "      <td>-0.151513</td>\n",
       "      <td>-1.001736</td>\n",
       "      <td>-0.154044</td>\n",
       "    </tr>\n",
       "    <tr>\n",
       "      <th>282</th>\n",
       "      <td>1</td>\n",
       "      <td>0.310072</td>\n",
       "      <td>2.634331</td>\n",
       "      <td>0.470430</td>\n",
       "      <td>0.176210</td>\n",
       "      <td>0.600088</td>\n",
       "      <td>1.976019</td>\n",
       "      <td>2.084810</td>\n",
       "      <td>1.169266</td>\n",
       "      <td>1.154075</td>\n",
       "      <td>1.235403</td>\n",
       "    </tr>\n",
       "    <tr>\n",
       "      <th>283</th>\n",
       "      <td>1</td>\n",
       "      <td>2.109139</td>\n",
       "      <td>0.720838</td>\n",
       "      <td>2.058974</td>\n",
       "      <td>2.341795</td>\n",
       "      <td>1.040926</td>\n",
       "      <td>0.218868</td>\n",
       "      <td>1.945573</td>\n",
       "      <td>2.318924</td>\n",
       "      <td>-0.312314</td>\n",
       "      <td>-0.930209</td>\n",
       "    </tr>\n",
       "    <tr>\n",
       "      <th>284</th>\n",
       "      <td>1</td>\n",
       "      <td>0.701667</td>\n",
       "      <td>2.043775</td>\n",
       "      <td>0.672084</td>\n",
       "      <td>0.577445</td>\n",
       "      <td>-0.839745</td>\n",
       "      <td>-0.038646</td>\n",
       "      <td>0.046547</td>\n",
       "      <td>0.105684</td>\n",
       "      <td>-0.808406</td>\n",
       "      <td>-0.894800</td>\n",
       "    </tr>\n",
       "    <tr>\n",
       "      <th>285</th>\n",
       "      <td>0</td>\n",
       "      <td>-1.806811</td>\n",
       "      <td>1.220718</td>\n",
       "      <td>-1.812793</td>\n",
       "      <td>-1.346604</td>\n",
       "      <td>-3.109349</td>\n",
       "      <td>-1.149741</td>\n",
       "      <td>-1.113893</td>\n",
       "      <td>-1.260710</td>\n",
       "      <td>-0.819349</td>\n",
       "      <td>-0.560539</td>\n",
       "    </tr>\n",
       "  </tbody>\n",
       "</table>\n",
       "<p>285 rows × 11 columns</p>\n",
       "</div>"
      ],
      "text/plain": [
       "       y       rad       tex       per      area       smo       com  \\\n",
       "index                                                                  \n",
       "1      1  1.096100 -2.071512  1.268817  0.983510  1.567087  3.280628   \n",
       "2      1  1.578499  0.455786  1.565126  1.557513  0.941382  1.052000   \n",
       "3      1  1.748758 -1.150804  1.775011  1.824624  0.280125  0.538866   \n",
       "4      1  1.169878  0.160508  1.137124  1.094332 -0.123028  0.088218   \n",
       "5      1 -0.319885  0.588312 -0.183919 -0.383870  2.199903  1.682529   \n",
       "...   ..       ...       ...       ...       ...       ...       ...   \n",
       "281    0 -0.021933  1.827549 -0.024241 -0.154836  0.208311  0.156383   \n",
       "282    1  0.310072  2.634331  0.470430  0.176210  0.600088  1.976019   \n",
       "283    1  2.109139  0.720838  2.058974  2.341795  1.040926  0.218868   \n",
       "284    1  0.701667  2.043775  0.672084  0.577445 -0.839745 -0.038646   \n",
       "285    0 -1.806811  1.220718 -1.812793 -1.346604 -3.109349 -1.149741   \n",
       "\n",
       "           conc     concp       sym       fra  \n",
       "index                                          \n",
       "1      2.650542  2.530249  2.215566  2.253764  \n",
       "2      1.362280  2.035440  0.938859 -0.397658  \n",
       "3      1.369806  1.427237 -0.009552 -0.561956  \n",
       "4      0.299809  0.646366 -0.064268 -0.761662  \n",
       "5      1.218025  1.149680  1.963872  1.571079  \n",
       "...         ...       ...       ...       ...  \n",
       "281   -0.554182 -0.151513 -1.001736 -0.154044  \n",
       "282    2.084810  1.169266  1.154075  1.235403  \n",
       "283    1.945573  2.318924 -0.312314 -0.930209  \n",
       "284    0.046547  0.105684 -0.808406 -0.894800  \n",
       "285   -1.113893 -1.260710 -0.819349 -0.560539  \n",
       "\n",
       "[285 rows x 11 columns]"
      ]
     },
     "execution_count": 13,
     "metadata": {},
     "output_type": "execute_result"
    }
   ],
   "source": [
    "train"
   ]
  },
  {
   "cell_type": "code",
   "execution_count": 14,
   "metadata": {
    "collapsed": true
   },
   "outputs": [
    {
     "data": {
      "text/html": [
       "<div>\n",
       "<style scoped>\n",
       "    .dataframe tbody tr th:only-of-type {\n",
       "        vertical-align: middle;\n",
       "    }\n",
       "\n",
       "    .dataframe tbody tr th {\n",
       "        vertical-align: top;\n",
       "    }\n",
       "\n",
       "    .dataframe thead th {\n",
       "        text-align: right;\n",
       "    }\n",
       "</style>\n",
       "<table border=\"1\" class=\"dataframe\">\n",
       "  <thead>\n",
       "    <tr style=\"text-align: right;\">\n",
       "      <th></th>\n",
       "      <th>y</th>\n",
       "      <th>rad</th>\n",
       "      <th>tex</th>\n",
       "      <th>per</th>\n",
       "      <th>area</th>\n",
       "      <th>smo</th>\n",
       "      <th>com</th>\n",
       "      <th>conc</th>\n",
       "      <th>concp</th>\n",
       "      <th>sym</th>\n",
       "      <th>fra</th>\n",
       "    </tr>\n",
       "    <tr>\n",
       "      <th>index</th>\n",
       "      <th></th>\n",
       "      <th></th>\n",
       "      <th></th>\n",
       "      <th></th>\n",
       "      <th></th>\n",
       "      <th></th>\n",
       "      <th></th>\n",
       "      <th></th>\n",
       "      <th></th>\n",
       "      <th></th>\n",
       "      <th></th>\n",
       "    </tr>\n",
       "  </thead>\n",
       "  <tbody>\n",
       "    <tr>\n",
       "      <th>286</th>\n",
       "      <td>9</td>\n",
       "      <td>1.828212</td>\n",
       "      <td>-0.353322</td>\n",
       "      <td>1.684473</td>\n",
       "      <td>1.907030</td>\n",
       "      <td>-0.826235</td>\n",
       "      <td>-0.486643</td>\n",
       "      <td>-0.023825</td>\n",
       "      <td>0.547662</td>\n",
       "      <td>0.001391</td>\n",
       "      <td>-0.867889</td>\n",
       "    </tr>\n",
       "    <tr>\n",
       "      <th>287</th>\n",
       "      <td>9</td>\n",
       "      <td>-0.768233</td>\n",
       "      <td>0.253509</td>\n",
       "      <td>-0.592166</td>\n",
       "      <td>-0.763792</td>\n",
       "      <td>3.280667</td>\n",
       "      <td>3.399917</td>\n",
       "      <td>1.914213</td>\n",
       "      <td>1.450431</td>\n",
       "      <td>2.864862</td>\n",
       "      <td>4.906602</td>\n",
       "    </tr>\n",
       "    <tr>\n",
       "      <th>288</th>\n",
       "      <td>9</td>\n",
       "      <td>-0.475956</td>\n",
       "      <td>-0.834601</td>\n",
       "      <td>-0.386808</td>\n",
       "      <td>-0.505206</td>\n",
       "      <td>2.235455</td>\n",
       "      <td>1.243242</td>\n",
       "      <td>0.865540</td>\n",
       "      <td>0.823931</td>\n",
       "      <td>1.004518</td>\n",
       "      <td>1.888343</td>\n",
       "    </tr>\n",
       "    <tr>\n",
       "      <th>289</th>\n",
       "      <td>9</td>\n",
       "      <td>-0.118413</td>\n",
       "      <td>0.358135</td>\n",
       "      <td>-0.072803</td>\n",
       "      <td>-0.218772</td>\n",
       "      <td>1.602639</td>\n",
       "      <td>1.139100</td>\n",
       "      <td>0.060972</td>\n",
       "      <td>0.281702</td>\n",
       "      <td>1.402121</td>\n",
       "      <td>1.658894</td>\n",
       "    </tr>\n",
       "    <tr>\n",
       "      <th>290</th>\n",
       "      <td>9</td>\n",
       "      <td>-0.473118</td>\n",
       "      <td>1.104467</td>\n",
       "      <td>-0.329192</td>\n",
       "      <td>-0.508616</td>\n",
       "      <td>1.581308</td>\n",
       "      <td>2.561105</td>\n",
       "      <td>1.737343</td>\n",
       "      <td>0.940932</td>\n",
       "      <td>0.796597</td>\n",
       "      <td>2.780649</td>\n",
       "    </tr>\n",
       "    <tr>\n",
       "      <th>...</th>\n",
       "      <td>...</td>\n",
       "      <td>...</td>\n",
       "      <td>...</td>\n",
       "      <td>...</td>\n",
       "      <td>...</td>\n",
       "      <td>...</td>\n",
       "      <td>...</td>\n",
       "      <td>...</td>\n",
       "      <td>...</td>\n",
       "      <td>...</td>\n",
       "      <td>...</td>\n",
       "    </tr>\n",
       "    <tr>\n",
       "      <th>565</th>\n",
       "      <td>9</td>\n",
       "      <td>-1.360450</td>\n",
       "      <td>0.616212</td>\n",
       "      <td>-1.356396</td>\n",
       "      <td>-1.110751</td>\n",
       "      <td>-0.281587</td>\n",
       "      <td>-0.914381</td>\n",
       "      <td>-0.612637</td>\n",
       "      <td>-0.930322</td>\n",
       "      <td>-0.436337</td>\n",
       "      <td>0.419580</td>\n",
       "    </tr>\n",
       "    <tr>\n",
       "      <th>566</th>\n",
       "      <td>9</td>\n",
       "      <td>-1.088887</td>\n",
       "      <td>1.934499</td>\n",
       "      <td>-1.082310</td>\n",
       "      <td>-0.947643</td>\n",
       "      <td>-0.430903</td>\n",
       "      <td>-0.525649</td>\n",
       "      <td>-0.361382</td>\n",
       "      <td>-0.555092</td>\n",
       "      <td>-0.797463</td>\n",
       "      <td>-0.216364</td>\n",
       "    </tr>\n",
       "    <tr>\n",
       "      <th>567</th>\n",
       "      <td>9</td>\n",
       "      <td>-1.334911</td>\n",
       "      <td>1.997275</td>\n",
       "      <td>-1.346107</td>\n",
       "      <td>-1.090008</td>\n",
       "      <td>-1.075807</td>\n",
       "      <td>-1.034428</td>\n",
       "      <td>-1.113893</td>\n",
       "      <td>-1.260710</td>\n",
       "      <td>-0.253950</td>\n",
       "      <td>-0.312677</td>\n",
       "    </tr>\n",
       "    <tr>\n",
       "      <th>568</th>\n",
       "      <td>9</td>\n",
       "      <td>-0.742695</td>\n",
       "      <td>1.078892</td>\n",
       "      <td>-0.718097</td>\n",
       "      <td>-0.714348</td>\n",
       "      <td>-0.266656</td>\n",
       "      <td>-0.042433</td>\n",
       "      <td>0.280993</td>\n",
       "      <td>-0.202798</td>\n",
       "      <td>-1.545248</td>\n",
       "      <td>0.411082</td>\n",
       "    </tr>\n",
       "    <tr>\n",
       "      <th>569</th>\n",
       "      <td>9</td>\n",
       "      <td>-0.830662</td>\n",
       "      <td>2.343703</td>\n",
       "      <td>-0.876540</td>\n",
       "      <td>-0.764076</td>\n",
       "      <td>-1.555040</td>\n",
       "      <td>-1.301977</td>\n",
       "      <td>-1.113893</td>\n",
       "      <td>-1.260710</td>\n",
       "      <td>-2.741705</td>\n",
       "      <td>-1.101588</td>\n",
       "    </tr>\n",
       "  </tbody>\n",
       "</table>\n",
       "<p>284 rows × 11 columns</p>\n",
       "</div>"
      ],
      "text/plain": [
       "       y       rad       tex       per      area       smo       com  \\\n",
       "index                                                                  \n",
       "286    9  1.828212 -0.353322  1.684473  1.907030 -0.826235 -0.486643   \n",
       "287    9 -0.768233  0.253509 -0.592166 -0.763792  3.280667  3.399917   \n",
       "288    9 -0.475956 -0.834601 -0.386808 -0.505206  2.235455  1.243242   \n",
       "289    9 -0.118413  0.358135 -0.072803 -0.218772  1.602639  1.139100   \n",
       "290    9 -0.473118  1.104467 -0.329192 -0.508616  1.581308  2.561105   \n",
       "...   ..       ...       ...       ...       ...       ...       ...   \n",
       "565    9 -1.360450  0.616212 -1.356396 -1.110751 -0.281587 -0.914381   \n",
       "566    9 -1.088887  1.934499 -1.082310 -0.947643 -0.430903 -0.525649   \n",
       "567    9 -1.334911  1.997275 -1.346107 -1.090008 -1.075807 -1.034428   \n",
       "568    9 -0.742695  1.078892 -0.718097 -0.714348 -0.266656 -0.042433   \n",
       "569    9 -0.830662  2.343703 -0.876540 -0.764076 -1.555040 -1.301977   \n",
       "\n",
       "           conc     concp       sym       fra  \n",
       "index                                          \n",
       "286   -0.023825  0.547662  0.001391 -0.867889  \n",
       "287    1.914213  1.450431  2.864862  4.906602  \n",
       "288    0.865540  0.823931  1.004518  1.888343  \n",
       "289    0.060972  0.281702  1.402121  1.658894  \n",
       "290    1.737343  0.940932  0.796597  2.780649  \n",
       "...         ...       ...       ...       ...  \n",
       "565   -0.612637 -0.930322 -0.436337  0.419580  \n",
       "566   -0.361382 -0.555092 -0.797463 -0.216364  \n",
       "567   -1.113893 -1.260710 -0.253950 -0.312677  \n",
       "568    0.280993 -0.202798 -1.545248  0.411082  \n",
       "569   -1.113893 -1.260710 -2.741705 -1.101588  \n",
       "\n",
       "[284 rows x 11 columns]"
      ]
     },
     "execution_count": 14,
     "metadata": {},
     "output_type": "execute_result"
    }
   ],
   "source": [
    "test"
   ]
  },
  {
   "cell_type": "markdown",
   "metadata": {},
   "source": [
    "## Imbalanced label"
   ]
  },
  {
   "cell_type": "code",
   "execution_count": 15,
   "metadata": {},
   "outputs": [
    {
     "data": {
      "text/plain": [
       "0.35789473684210527"
      ]
     },
     "execution_count": 15,
     "metadata": {},
     "output_type": "execute_result"
    }
   ],
   "source": [
    "np.mean(train['y'])"
   ]
  },
  {
   "cell_type": "markdown",
   "metadata": {},
   "source": [
    "## Distribution of numeric features"
   ]
  },
  {
   "cell_type": "markdown",
   "metadata": {},
   "source": [
    "Numeric summary."
   ]
  },
  {
   "cell_type": "code",
   "execution_count": 16,
   "metadata": {},
   "outputs": [
    {
     "data": {
      "text/html": [
       "<div>\n",
       "<style scoped>\n",
       "    .dataframe tbody tr th:only-of-type {\n",
       "        vertical-align: middle;\n",
       "    }\n",
       "\n",
       "    .dataframe tbody tr th {\n",
       "        vertical-align: top;\n",
       "    }\n",
       "\n",
       "    .dataframe thead th {\n",
       "        text-align: right;\n",
       "    }\n",
       "</style>\n",
       "<table border=\"1\" class=\"dataframe\">\n",
       "  <thead>\n",
       "    <tr style=\"text-align: right;\">\n",
       "      <th></th>\n",
       "      <th>y</th>\n",
       "      <th>rad</th>\n",
       "      <th>tex</th>\n",
       "      <th>per</th>\n",
       "      <th>area</th>\n",
       "      <th>smo</th>\n",
       "      <th>com</th>\n",
       "      <th>conc</th>\n",
       "      <th>concp</th>\n",
       "      <th>sym</th>\n",
       "      <th>fra</th>\n",
       "    </tr>\n",
       "  </thead>\n",
       "  <tbody>\n",
       "    <tr>\n",
       "      <th>count</th>\n",
       "      <td>285.000000</td>\n",
       "      <td>285.000000</td>\n",
       "      <td>285.000000</td>\n",
       "      <td>285.000000</td>\n",
       "      <td>285.000000</td>\n",
       "      <td>285.000000</td>\n",
       "      <td>285.000000</td>\n",
       "      <td>285.000000</td>\n",
       "      <td>285.000000</td>\n",
       "      <td>285.000000</td>\n",
       "      <td>285.000000</td>\n",
       "    </tr>\n",
       "    <tr>\n",
       "      <th>mean</th>\n",
       "      <td>0.357895</td>\n",
       "      <td>-0.010842</td>\n",
       "      <td>-0.023462</td>\n",
       "      <td>-0.002792</td>\n",
       "      <td>-0.004363</td>\n",
       "      <td>0.021016</td>\n",
       "      <td>0.062575</td>\n",
       "      <td>0.064729</td>\n",
       "      <td>0.017261</td>\n",
       "      <td>0.022510</td>\n",
       "      <td>0.060899</td>\n",
       "    </tr>\n",
       "    <tr>\n",
       "      <th>std</th>\n",
       "      <td>0.480224</td>\n",
       "      <td>1.024876</td>\n",
       "      <td>0.980730</td>\n",
       "      <td>1.033297</td>\n",
       "      <td>1.036493</td>\n",
       "      <td>1.025672</td>\n",
       "      <td>1.058947</td>\n",
       "      <td>1.105083</td>\n",
       "      <td>1.060488</td>\n",
       "      <td>1.039476</td>\n",
       "      <td>0.963596</td>\n",
       "    </tr>\n",
       "    <tr>\n",
       "      <th>min</th>\n",
       "      <td>0.000000</td>\n",
       "      <td>-1.815608</td>\n",
       "      <td>-2.227289</td>\n",
       "      <td>-1.812793</td>\n",
       "      <td>-1.352856</td>\n",
       "      <td>-3.109349</td>\n",
       "      <td>-1.608721</td>\n",
       "      <td>-1.113893</td>\n",
       "      <td>-1.260710</td>\n",
       "      <td>-2.220079</td>\n",
       "      <td>-1.778607</td>\n",
       "    </tr>\n",
       "    <tr>\n",
       "      <th>25%</th>\n",
       "      <td>0.000000</td>\n",
       "      <td>-0.700130</td>\n",
       "      <td>-0.760200</td>\n",
       "      <td>-0.709867</td>\n",
       "      <td>-0.671156</td>\n",
       "      <td>-0.710338</td>\n",
       "      <td>-0.704773</td>\n",
       "      <td>-0.755763</td>\n",
       "      <td>-0.759458</td>\n",
       "      <td>-0.702621</td>\n",
       "      <td>-0.554874</td>\n",
       "    </tr>\n",
       "    <tr>\n",
       "      <th>50%</th>\n",
       "      <td>0.000000</td>\n",
       "      <td>-0.263132</td>\n",
       "      <td>-0.092919</td>\n",
       "      <td>-0.267050</td>\n",
       "      <td>-0.329595</td>\n",
       "      <td>0.007090</td>\n",
       "      <td>-0.137296</td>\n",
       "      <td>-0.319235</td>\n",
       "      <td>-0.401495</td>\n",
       "      <td>-0.075211</td>\n",
       "      <td>-0.093141</td>\n",
       "    </tr>\n",
       "    <tr>\n",
       "      <th>75%</th>\n",
       "      <td>1.000000</td>\n",
       "      <td>0.446279</td>\n",
       "      <td>0.599937</td>\n",
       "      <td>0.445737</td>\n",
       "      <td>0.317438</td>\n",
       "      <td>0.692522</td>\n",
       "      <td>0.533186</td>\n",
       "      <td>0.615916</td>\n",
       "      <td>0.739659</td>\n",
       "      <td>0.526665</td>\n",
       "      <td>0.503146</td>\n",
       "    </tr>\n",
       "    <tr>\n",
       "      <th>max</th>\n",
       "      <td>1.000000</td>\n",
       "      <td>3.967796</td>\n",
       "      <td>3.376013</td>\n",
       "      <td>3.972634</td>\n",
       "      <td>5.240230</td>\n",
       "      <td>4.766717</td>\n",
       "      <td>4.564409</td>\n",
       "      <td>4.239858</td>\n",
       "      <td>3.924477</td>\n",
       "      <td>3.992012</td>\n",
       "      <td>4.563843</td>\n",
       "    </tr>\n",
       "  </tbody>\n",
       "</table>\n",
       "</div>"
      ],
      "text/plain": [
       "                y         rad         tex         per        area         smo  \\\n",
       "count  285.000000  285.000000  285.000000  285.000000  285.000000  285.000000   \n",
       "mean     0.357895   -0.010842   -0.023462   -0.002792   -0.004363    0.021016   \n",
       "std      0.480224    1.024876    0.980730    1.033297    1.036493    1.025672   \n",
       "min      0.000000   -1.815608   -2.227289   -1.812793   -1.352856   -3.109349   \n",
       "25%      0.000000   -0.700130   -0.760200   -0.709867   -0.671156   -0.710338   \n",
       "50%      0.000000   -0.263132   -0.092919   -0.267050   -0.329595    0.007090   \n",
       "75%      1.000000    0.446279    0.599937    0.445737    0.317438    0.692522   \n",
       "max      1.000000    3.967796    3.376013    3.972634    5.240230    4.766717   \n",
       "\n",
       "              com        conc       concp         sym         fra  \n",
       "count  285.000000  285.000000  285.000000  285.000000  285.000000  \n",
       "mean     0.062575    0.064729    0.017261    0.022510    0.060899  \n",
       "std      1.058947    1.105083    1.060488    1.039476    0.963596  \n",
       "min     -1.608721   -1.113893   -1.260710   -2.220079   -1.778607  \n",
       "25%     -0.704773   -0.755763   -0.759458   -0.702621   -0.554874  \n",
       "50%     -0.137296   -0.319235   -0.401495   -0.075211   -0.093141  \n",
       "75%      0.533186    0.615916    0.739659    0.526665    0.503146  \n",
       "max      4.564409    4.239858    3.924477    3.992012    4.563843  "
      ]
     },
     "execution_count": 16,
     "metadata": {},
     "output_type": "execute_result"
    }
   ],
   "source": [
    "train.describe()"
   ]
  },
  {
   "cell_type": "markdown",
   "metadata": {},
   "source": [
    "Conduct Shapiro-Wilk test to test normality.\n",
    "\n",
    "Actually, it doesn't matter much even if the covariates are not normally distributed."
   ]
  },
  {
   "cell_type": "code",
   "execution_count": 17,
   "metadata": {
    "code_folding": [
     0
    ]
   },
   "outputs": [
    {
     "name": "stdout",
     "output_type": "stream",
     "text": [
      "[1.270684391041499e-10, 0.008311355486512184, 3.627542016770846e-11, 1.4990902920558895e-16, 0.002965618623420596, 1.6431514135439862e-11, 1.1341824103294285e-15, 2.5119344809493988e-14, 3.182653927069623e-07, 7.114887151660199e-11]\n",
      "\n",
      "The smallest p-value:\n",
      "1.4990902920558895e-16\n",
      "\n",
      "The index of the smallest p-value:\n",
      "3\n",
      "\n",
      "4 smallest p-values:\n",
      "[1.49909029e-16 1.13418241e-15 2.51193448e-14 1.64315141e-11]\n"
     ]
    }
   ],
   "source": [
    "# Shapiro-Wilk test\n",
    "pvalues = []\n",
    "for i in range(1, 11):\n",
    "    pvalues.append(stats.shapiro(train.iloc[:,i])[1])\n",
    "print(pvalues)\n",
    "print(\"\\nThe smallest p-value:\")\n",
    "print(min(pvalues)) # smallest pvalue\n",
    "print(\"\\nThe index of the smallest p-value:\")\n",
    "print(pvalues.index(min(pvalues)))\n",
    "\n",
    "pvalues = np.array(pvalues)\n",
    "k = 4\n",
    "result = np.argpartition(pvalues, k)\n",
    "print(f\"\\n{k} smallest p-values:\")\n",
    "print(pvalues[result[:k]])"
   ]
  },
  {
   "cell_type": "markdown",
   "metadata": {},
   "source": [
    "Density plot of V25 which is the feature with the smallest pvalue of Shapiro-Wilk test."
   ]
  },
  {
   "cell_type": "code",
   "execution_count": 20,
   "metadata": {
    "code_folding": [
     0
    ],
    "collapsed": true
   },
   "outputs": [
    {
     "data": {
      "image/png": "[encoded data removed]",
      "text/plain": [
       "<Figure size 432x288 with 1 Axes>"
      ]
     },
     "metadata": {
      "needs_background": "light"
     },
     "output_type": "display_data"
    }
   ],
   "source": [
    "# density plot of V25 which is the feature with the smallest pvalue of Shapiro-Wilk test\n",
    "sns.distplot(train.iloc[:, 3], label = \"Empirical\")\n",
    "h = np.arange(-4, 4, 0.1)\n",
    "fit = stats.norm.pdf(h, 0, 1) \n",
    "plt.plot(h, fit, 'r--', label = \"Standard normal\")\n",
    "plt.legend()\n",
    "plt.show()"
   ]
  },
  {
   "cell_type": "markdown",
   "metadata": {},
   "source": [
    "## Correlation of numeric features"
   ]
  },
  {
   "cell_type": "code",
   "execution_count": 21,
   "metadata": {
    "code_folding": []
   },
   "outputs": [
    {
     "name": "stdout",
     "output_type": "stream",
     "text": [
      "The image has been saved to 'images/heatmap.pdf'.\n"
     ]
    },
    {
     "data": {
      "image/png": "[encoded data removed]",
      "text/plain": [
       "<Figure size 842.4x595.44 with 2 Axes>"
      ]
     },
     "metadata": {},
     "output_type": "display_data"
    },
    {
     "name": "stdout",
     "output_type": "stream",
     "text": [
      "Grouping:\n",
      "1: ['rad', 'per', 'area', 'concp']\n",
      "2: ['com', 'conc']\n",
      "Others: ['tex', 'smo', 'sym', 'fra']\n"
     ]
    }
   ],
   "source": [
    "# correlation heatmap\n",
    "X = train.drop(columns = ['y'])\n",
    "ut.show_corr(X, cutoff=0.7)"
   ]
  },
  {
   "cell_type": "markdown",
   "metadata": {},
   "source": [
    "## Preliminary variable selection"
   ]
  },
  {
   "cell_type": "markdown",
   "metadata": {},
   "source": [
    "Investigate the relationship between numeric features and response by boxplot. "
   ]
  },
  {
   "cell_type": "code",
   "execution_count": 22,
   "metadata": {
    "code_folding": []
   },
   "outputs": [
    {
     "data": {
      "image/png": "[encoded data removed]",
      "text/plain": [
       "<Figure size 432x288 with 1 Axes>"
      ]
     },
     "metadata": {},
     "output_type": "display_data"
    },
    {
     "data": {
      "image/png": "[encoded data removed]",
      "text/plain": [
       "<Figure size 432x288 with 1 Axes>"
      ]
     },
     "metadata": {},
     "output_type": "display_data"
    },
    {
     "data": {
      "image/png": "[encoded data removed]",
      "text/plain": [
       "<Figure size 432x288 with 1 Axes>"
      ]
     },
     "metadata": {},
     "output_type": "display_data"
    },
    {
     "data": {
      "image/png": "[encoded data removed]",
      "text/plain": [
       "<Figure size 432x288 with 1 Axes>"
      ]
     },
     "metadata": {},
     "output_type": "display_data"
    },
    {
     "data": {
      "image/png": "[encoded data removed]",
      "text/plain": [
       "<Figure size 432x288 with 1 Axes>"
      ]
     },
     "metadata": {},
     "output_type": "display_data"
    },
    {
     "data": {
      "image/png": "[encoded data removed]",
      "text/plain": [
       "<Figure size 432x288 with 1 Axes>"
      ]
     },
     "metadata": {},
     "output_type": "display_data"
    },
    {
     "data": {
      "image/png": "[encoded data removed]",
      "text/plain": [
       "<Figure size 432x288 with 1 Axes>"
      ]
     },
     "metadata": {},
     "output_type": "display_data"
    },
    {
     "data": {
      "image/png": "[encoded data removed]",
      "text/plain": [
       "<Figure size 432x288 with 1 Axes>"
      ]
     },
     "metadata": {},
     "output_type": "display_data"
    },
    {
     "data": {
      "image/png": "[encoded data removed]",
      "text/plain": [
       "<Figure size 432x288 with 1 Axes>"
      ]
     },
     "metadata": {},
     "output_type": "display_data"
    },
    {
     "data": {
      "image/png": "[encoded data removed]",
      "text/plain": [
       "<Figure size 432x288 with 1 Axes>"
      ]
     },
     "metadata": {},
     "output_type": "display_data"
    }
   ],
   "source": [
    "# boxplot: covariate vs response\n",
    "for i in range(1, 11):\n",
    "    sns.boxplot(x = train[\"y\"], y = train.iloc[:, i], palette=[(0, 0.50, 0.80),(0.95, 0.15, 0.15)])\n",
    "    plt.show()"
   ]
  },
  {
   "cell_type": "markdown",
   "metadata": {},
   "source": [
    "By examine the boxplots, we found except for `fra`, all other variables are significant."
   ]
  },
  {
   "cell_type": "markdown",
   "metadata": {},
   "source": [
    "##  Identical distribution of the training and testing data"
   ]
  },
  {
   "cell_type": "markdown",
   "metadata": {},
   "source": [
    "Conduct Kolmogorov-Smirnov test between training and test set to test they have identical distribution."
   ]
  },
  {
   "cell_type": "code",
   "execution_count": 23,
   "metadata": {
    "code_folding": [
     0
    ],
    "collapsed": true
   },
   "outputs": [
    {
     "name": "stdout",
     "output_type": "stream",
     "text": [
      "[0.8134455833714642, 0.9798641973996761, 0.8258251079754675, 0.8725247886672455, 0.2709911017279074, 0.5030802897398907, 0.2877122106624025, 0.5989701154772322, 0.9087172219124175, 0.059598676311822696]\n",
      "\n",
      "The smallest p-value:\n",
      "0.059598676311822696\n",
      "\n",
      "4 smallest p-values:\n",
      "[0.05959868 0.2709911  0.28771221 0.50308029]\n"
     ]
    }
   ],
   "source": [
    "##  Kolmogorov-Smirnov test between train and test\n",
    "pvalues_KS = []\n",
    "for i in range(1, 11):\n",
    "    pvalues_KS.append(stats.ks_2samp(train.iloc[:,i], test.iloc[:,i])[1])\n",
    "print(pvalues_KS)\n",
    "\n",
    "print(\"\\nThe smallest p-value:\")\n",
    "print(min(pvalues_KS))\n",
    "\n",
    "pvalues_KS = np.array(pvalues_KS)\n",
    "k = 4\n",
    "result = np.argpartition(pvalues_KS, k)\n",
    "print(f\"\\n{k} smallest p-values:\")\n",
    "print(pvalues_KS[result[:k]])"
   ]
  },
  {
   "cell_type": "markdown",
   "metadata": {},
   "source": [
    "All numeric features have identical distribution in training and test set."
   ]
  }
 ],
 "metadata": {
  "kernelspec": {
   "display_name": "Python 3",
   "language": "python",
   "name": "python3"
  },
  "language_info": {
   "codemirror_mode": {
    "name": "ipython",
    "version": 3
   },
   "file_extension": ".py",
   "mimetype": "text/x-python",
   "name": "python",
   "nbconvert_exporter": "python",
   "pygments_lexer": "ipython3",
   "version": "3.7.7"
  }
 },
 "nbformat": 4,
 "nbformat_minor": 4
}
